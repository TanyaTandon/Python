{
 "cells": [
  {
   "cell_type": "markdown",
   "metadata": {},
   "source": [
    "# Tanya Tandon Week 3 Homework"
   ]
  },
  {
   "cell_type": "markdown",
   "metadata": {},
   "source": [
    "QUESTION 1"
   ]
  },
  {
   "cell_type": "code",
   "execution_count": null,
   "metadata": {},
   "outputs": [],
   "source": [
    "%matplotlib inline\n",
    "import matplotlib.pyplot as plt\n",
    "from pprint import pprint\n",
    "import requests\n",
    "import datetime\n",
    "import time\n",
    "import statistics\n",
    "\n",
    "places = ['New Delhi', 'Evanston', 'LA', 'Paris', 'London']\n",
    "latitude = [28.644800,42.045597,34.052235, 48.864716, 51.508530]\n",
    "longitude = [77.216721,-87.688568, -118.243683, 2.349014, -0.076132]\n",
    "unix_ts = []\n",
    "for i in range(30):\n",
    "    dt = datetime.datetime(2018, 1, (i+1), 1, 0)\n",
    "    unix_ts.append(int(time.mktime(dt.timetuple())))\n",
    "\n",
    "min_f =[]\n",
    "max_f =[]\n",
    "mid_f=[]\n",
    "for p in range(len(places)):\n",
    "    j = 0\n",
    "    min_d =[]\n",
    "    max_d =[]\n",
    "    mid_d =[]\n",
    "    for i in unix_ts: \n",
    "        \n",
    "        response = requests.get(\"https://api.darksky.net/forecast/b3fb7c92f98f5a42384809b8ef1feae3/{},{},{}\".format(latitude[p], longitude[p], i))           \n",
    "        result = response.json()\n",
    "        \n",
    "        min_d.append(result['daily']['data'][0]['temperatureMin'])\n",
    "        max_d.append(result['daily']['data'][0]['temperatureHigh'])\n",
    "        mid_d.append((min_d[j] + max_d[j])/2)\n",
    "        j = j +1\n",
    "    min_f.append(min(min_d))\n",
    "    max_f.append(max(max_d))\n",
    "    mid_f.append(statistics.mean(mid_d))\n",
    "\n",
    "print(\"Min\" + \"         \" + \"Max\" + \"         \" + \"Mid\" )\n",
    "for i in range(5):\n",
    "    print(str(min_f[i]) + \"       \" + str(max_f[i])+ \"       \"+ str(mid_f[i]))\n",
    "plt.plot(places, min_f, color= 'b', label = 'min')\n",
    "plt.plot(places, max_f, color = 'r', label = 'max')\n",
    "plt.plot(places, mid_f, color = 'm', label = 'mid')\n",
    "plt.legend()\n",
    "plt.show()"
   ]
  },
  {
   "cell_type": "markdown",
   "metadata": {},
   "source": [
    "QUESTION 2"
   ]
  },
  {
   "cell_type": "code",
   "execution_count": null,
   "metadata": {},
   "outputs": [],
   "source": [
    "from requests import get \n",
    "from bs4 import BeautifulSoup\n",
    "\n",
    "response_2 = get(\"https://report.boonecountymo.org/mrcjava/servlet/SH01_MP.I00290s?max_rows=500\" )\n",
    "html = response_2.content.decode('ascii')\n",
    "\n",
    "#html = open(\"Main Page.rtf\").read()\n",
    "\n",
    "html_soup = BeautifulSoup(html, 'html.parser')\n",
    "change_no = html_soup.find_all('input', class_ = \"mrcinput\")\n",
    "\n",
    "classcon = html_soup.find_all('tr', class_=[\"even\", \"odd\"])\n",
    "\n",
    "last_t = []\n",
    "first_t =[]\n",
    "age_t = []\n",
    "n_l = []\n",
    "for i in range(len(classcon)- 1):\n",
    "    string1 = classcon[i+1].get_text().split('\\n')\n",
    "    last_t.append(string1[1]) \n",
    "    first_t.append(string1[2])\n",
    "    age_t.append(string1[6])\n",
    "    n_l.append(\"https://report.boonecountymo.org/mrcjava/servlet/\" + classcon[i+1].find(\"a\")[\"href\"]) \n"
   ]
  },
  {
   "cell_type": "code",
   "execution_count": null,
   "metadata": {},
   "outputs": [],
   "source": [
    "\n",
    "# SEQUENTIAL\n",
    "def sequential():\n",
    "    total_cases = []\n",
    "    total_bail = []\n",
    "    for i in range(len(classcon)- 1):  \n",
    "        response3 = get(n_l[i])\n",
    "        htmln1 = response3.content.decode('ascii')\n",
    "        new_soup1 = BeautifulSoup(htmln1,'html.parser')\n",
    "        new_con1 = new_soup1.find_all('tr', class_= [\"detailBackground\"])\n",
    "        new_total1 = new_soup1.find_all('tr', class_=\"grandBackground\")\n",
    "\n",
    "        if(len(new_con1) != 0): \n",
    "            total_bail.append(new_total1[0].get_text().split('\\n')[4])\n",
    "        else:\n",
    "            total_bail.append(\"0\")\n",
    "        total_cases.append(len(new_con1))\n",
    "    for i in range(len(classcon)- 1):\n",
    "        if (total_bail[i] == \".00\"):\n",
    "            total_bail[i] = 0\n",
    "        print( str(last_t[i]) + \" \"  + str(first_t[i]) + \"               \"  + str(total_cases[i]) +  \"          \" + str(total_bail[i]))"
   ]
  },
  {
   "cell_type": "code",
   "execution_count": null,
   "metadata": {},
   "outputs": [],
   "source": [
    "#THREADING\n",
    "def threading():\n",
    "    import threading\n",
    "\n",
    "    def print_it(n_t,i):    \n",
    "\n",
    "        response3 = get(n_t)\n",
    "        htmln1 = response3.content.decode('ascii')\n",
    "        #htmlnt = open(\"Detail Page.rtf\".read)\n",
    "        new_soup1 = BeautifulSoup(htmln1,'html.parser')\n",
    "        new_con1 = new_soup1.find_all('tr', class_= [\"detailBackground\"])\n",
    "        new_total1 = new_soup1.find_all('tr', class_=\"grandBackground\")\n",
    "        tLock.acquire()\n",
    "        if new_con1: \n",
    "            print(str(last_t[i]) + \"  \" + str(first_t[i]) + \"               \"  + str(new_total1[0].get_text().split('\\n')[4]) +  \"          \" + str(len(new_con1)))\n",
    "        else:\n",
    "            print(str(last_t[i]) + \"  \" + str(first_t[i]) + \"               \"  + str(\"0\") +  \"          \" + str(len(new_con1)))\n",
    "        tLock.release()\n",
    "\n",
    "    tLock = threading.Lock()\n",
    "\n",
    "    for j in range(len(classcon)- 1): \n",
    "        t1 = Thread(target= print_it, args=(n_l[j],j))\n",
    "        t1.start()\n",
    "\n"
   ]
  },
  {
   "cell_type": "code",
   "execution_count": null,
   "metadata": {},
   "outputs": [],
   "source": [
    "import timeit\n",
    "t1 = timeit.timeit(sequential)\n",
    "t2 = timeit.timeit(threading)\n",
    "print( \"Time for sequential:  \" +  str(t1))\n",
    "print( \"Time for threading:  \" + str(t2))\n"
   ]
  }
 ],
 "metadata": {
  "kernelspec": {
   "display_name": "Python 3",
   "language": "python",
   "name": "python3"
  },
  "language_info": {
   "codemirror_mode": {
    "name": "ipython",
    "version": 3
   },
   "file_extension": ".py",
   "mimetype": "text/x-python",
   "name": "python",
   "nbconvert_exporter": "python",
   "pygments_lexer": "ipython3",
   "version": "3.7.0"
  }
 },
 "nbformat": 4,
 "nbformat_minor": 2
}
